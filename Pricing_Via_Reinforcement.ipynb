{
  "nbformat": 4,
  "nbformat_minor": 0,
  "metadata": {
    "colab": {
      "provenance": [],
      "authorship_tag": "ABX9TyOmLu7BNhqGYtbotBqLg6d7",
      "include_colab_link": true
    },
    "kernelspec": {
      "name": "python3",
      "display_name": "Python 3"
    },
    "language_info": {
      "name": "python"
    }
  },
  "cells": [
    {
      "cell_type": "markdown",
      "metadata": {
        "id": "view-in-github",
        "colab_type": "text"
      },
      "source": [
        "<a href=\"https://colab.research.google.com/github/sjpritchard2001/test/blob/main/Pricing_Via_Reinforcement.ipynb\" target=\"_parent\"><img src=\"https://colab.research.google.com/assets/colab-badge.svg\" alt=\"Open In Colab\"/></a>"
      ]
    },
    {
      "cell_type": "markdown",
      "source": [
        "\n",
        "# **Scenario:**\n",
        "* The business sells a product online and wants to use reinforcement learning to determine the best price point for the product each day.\n",
        "\n",
        "* The agent can choose a price from a set of possible prices (e.g., $10, $15, $20, $25).\n",
        "\n",
        "* The environment responds with sales volume based on the price, and the agent receives a reward in the form of profit (price * quantity sold)."
      ],
      "metadata": {
        "id": "qnINq5gk5DRp"
      }
    },
    {
      "cell_type": "code",
      "execution_count": 1,
      "metadata": {
        "id": "DWgnYB5c4iiZ"
      },
      "outputs": [],
      "source": [
        "import random\n",
        "\n",
        "class PricingAgent:\n",
        "    def __init__(self):\n",
        "        self.prices = [10, 15, 20, 25]  # Possible price points\n",
        "        self.q_values = {price: 0 for price in self.prices}  # Q-values (initially 0)\n",
        "\n",
        "    def choose_action(self):\n",
        "        # Exploration vs. exploitation\n",
        "        if random.random() < 0.1:  # 10% chance to explore\n",
        "            return random.choice(self.prices)\n",
        "        else:\n",
        "            return max(self.q_values, key=self.q_values.get)  # Exploit best price\n",
        "\n",
        "    def update_q_value(self, price, reward):\n",
        "        # Update Q-value based on reward (simple Q-learning update rule)\n",
        "        learning_rate = 0.1\n",
        "        self.q_values[price] += learning_rate * (reward - self.q_values[price])"
      ]
    },
    {
      "cell_type": "code",
      "source": [
        "class BusinessEnvironment:\n",
        "    def __init__(self):\n",
        "        self.demand_factor = 100  # Base demand\n",
        "\n",
        "    def get_sales(self, price):\n",
        "        # Simulate sales based on price (simplified model)\n",
        "        if price < 15:\n",
        "            sales = self.demand_factor - (15 - price) * 10\n",
        "        elif price > 20:\n",
        "            sales = self.demand_factor - (price - 20) * 5\n",
        "        else:\n",
        "            sales = self.demand_factor\n",
        "        return sales\n",
        "\n",
        "    def get_reward(self, price):\n",
        "        sales = self.get_sales(price)\n",
        "        return sales * price  # Profit is price * quantity sold"
      ],
      "metadata": {
        "id": "E-CH0irX4sik"
      },
      "execution_count": 2,
      "outputs": []
    },
    {
      "cell_type": "code",
      "source": [
        "# Initialize the environment and agent\n",
        "environment = BusinessEnvironment()\n",
        "agent = PricingAgent()"
      ],
      "metadata": {
        "id": "CmrlT4j74tVh"
      },
      "execution_count": 3,
      "outputs": []
    },
    {
      "cell_type": "code",
      "source": [
        "for day in range(100):\n",
        "    price = agent.choose_action()  # Agent chooses a price\n",
        "    reward = environment.get_reward(price)  # Environment gives reward based on sales\n",
        "    agent.update_q_value(price, reward)  # Agent learns from the reward\n",
        "\n",
        "    print(f\"Day {day + 1}: Price set to {price}, Profit: {reward}\")"
      ],
      "metadata": {
        "colab": {
          "base_uri": "https://localhost:8080/"
        },
        "id": "PPzVNFWb4vPk",
        "outputId": "e55fc770-2b44-44ba-abfb-b9f20c240809"
      },
      "execution_count": 4,
      "outputs": [
        {
          "output_type": "stream",
          "name": "stdout",
          "text": [
            "Day 1: Price set to 10, Profit: 500\n",
            "Day 2: Price set to 15, Profit: 1500\n",
            "Day 3: Price set to 15, Profit: 1500\n",
            "Day 4: Price set to 15, Profit: 1500\n",
            "Day 5: Price set to 15, Profit: 1500\n",
            "Day 6: Price set to 15, Profit: 1500\n",
            "Day 7: Price set to 15, Profit: 1500\n",
            "Day 8: Price set to 10, Profit: 500\n",
            "Day 9: Price set to 15, Profit: 1500\n",
            "Day 10: Price set to 15, Profit: 1500\n",
            "Day 11: Price set to 15, Profit: 1500\n",
            "Day 12: Price set to 15, Profit: 1500\n",
            "Day 13: Price set to 15, Profit: 1500\n",
            "Day 14: Price set to 15, Profit: 1500\n",
            "Day 15: Price set to 15, Profit: 1500\n",
            "Day 16: Price set to 15, Profit: 1500\n",
            "Day 17: Price set to 15, Profit: 1500\n",
            "Day 18: Price set to 10, Profit: 500\n",
            "Day 19: Price set to 15, Profit: 1500\n",
            "Day 20: Price set to 15, Profit: 1500\n",
            "Day 21: Price set to 15, Profit: 1500\n",
            "Day 22: Price set to 15, Profit: 1500\n",
            "Day 23: Price set to 15, Profit: 1500\n",
            "Day 24: Price set to 15, Profit: 1500\n",
            "Day 25: Price set to 15, Profit: 1500\n",
            "Day 26: Price set to 15, Profit: 1500\n",
            "Day 27: Price set to 15, Profit: 1500\n",
            "Day 28: Price set to 20, Profit: 2000\n",
            "Day 29: Price set to 15, Profit: 1500\n",
            "Day 30: Price set to 25, Profit: 1875\n",
            "Day 31: Price set to 15, Profit: 1500\n",
            "Day 32: Price set to 15, Profit: 1500\n",
            "Day 33: Price set to 15, Profit: 1500\n",
            "Day 34: Price set to 15, Profit: 1500\n",
            "Day 35: Price set to 15, Profit: 1500\n",
            "Day 36: Price set to 15, Profit: 1500\n",
            "Day 37: Price set to 15, Profit: 1500\n",
            "Day 38: Price set to 15, Profit: 1500\n",
            "Day 39: Price set to 15, Profit: 1500\n",
            "Day 40: Price set to 15, Profit: 1500\n",
            "Day 41: Price set to 15, Profit: 1500\n",
            "Day 42: Price set to 15, Profit: 1500\n",
            "Day 43: Price set to 15, Profit: 1500\n",
            "Day 44: Price set to 25, Profit: 1875\n",
            "Day 45: Price set to 15, Profit: 1500\n",
            "Day 46: Price set to 15, Profit: 1500\n",
            "Day 47: Price set to 15, Profit: 1500\n",
            "Day 48: Price set to 15, Profit: 1500\n",
            "Day 49: Price set to 15, Profit: 1500\n",
            "Day 50: Price set to 15, Profit: 1500\n",
            "Day 51: Price set to 15, Profit: 1500\n",
            "Day 52: Price set to 15, Profit: 1500\n",
            "Day 53: Price set to 15, Profit: 1500\n",
            "Day 54: Price set to 15, Profit: 1500\n",
            "Day 55: Price set to 15, Profit: 1500\n",
            "Day 56: Price set to 15, Profit: 1500\n",
            "Day 57: Price set to 15, Profit: 1500\n",
            "Day 58: Price set to 15, Profit: 1500\n",
            "Day 59: Price set to 15, Profit: 1500\n",
            "Day 60: Price set to 15, Profit: 1500\n",
            "Day 61: Price set to 15, Profit: 1500\n",
            "Day 62: Price set to 15, Profit: 1500\n",
            "Day 63: Price set to 15, Profit: 1500\n",
            "Day 64: Price set to 15, Profit: 1500\n",
            "Day 65: Price set to 15, Profit: 1500\n",
            "Day 66: Price set to 15, Profit: 1500\n",
            "Day 67: Price set to 15, Profit: 1500\n",
            "Day 68: Price set to 15, Profit: 1500\n",
            "Day 69: Price set to 15, Profit: 1500\n",
            "Day 70: Price set to 15, Profit: 1500\n",
            "Day 71: Price set to 15, Profit: 1500\n",
            "Day 72: Price set to 10, Profit: 500\n",
            "Day 73: Price set to 15, Profit: 1500\n",
            "Day 74: Price set to 15, Profit: 1500\n",
            "Day 75: Price set to 15, Profit: 1500\n",
            "Day 76: Price set to 15, Profit: 1500\n",
            "Day 77: Price set to 15, Profit: 1500\n",
            "Day 78: Price set to 15, Profit: 1500\n",
            "Day 79: Price set to 15, Profit: 1500\n",
            "Day 80: Price set to 15, Profit: 1500\n",
            "Day 81: Price set to 15, Profit: 1500\n",
            "Day 82: Price set to 15, Profit: 1500\n",
            "Day 83: Price set to 15, Profit: 1500\n",
            "Day 84: Price set to 15, Profit: 1500\n",
            "Day 85: Price set to 15, Profit: 1500\n",
            "Day 86: Price set to 15, Profit: 1500\n",
            "Day 87: Price set to 15, Profit: 1500\n",
            "Day 88: Price set to 10, Profit: 500\n",
            "Day 89: Price set to 15, Profit: 1500\n",
            "Day 90: Price set to 15, Profit: 1500\n",
            "Day 91: Price set to 15, Profit: 1500\n",
            "Day 92: Price set to 15, Profit: 1500\n",
            "Day 93: Price set to 15, Profit: 1500\n",
            "Day 94: Price set to 15, Profit: 1500\n",
            "Day 95: Price set to 15, Profit: 1500\n",
            "Day 96: Price set to 15, Profit: 1500\n",
            "Day 97: Price set to 15, Profit: 1500\n",
            "Day 98: Price set to 15, Profit: 1500\n",
            "Day 99: Price set to 15, Profit: 1500\n",
            "Day 100: Price set to 15, Profit: 1500\n"
          ]
        }
      ]
    }
  ]
}